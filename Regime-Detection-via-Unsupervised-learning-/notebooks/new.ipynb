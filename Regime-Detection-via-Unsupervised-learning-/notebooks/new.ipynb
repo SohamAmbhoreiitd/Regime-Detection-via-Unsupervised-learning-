{
    "cells": [
        {
            "cell_type": "code",
            "metadata": {
                "id": "1a2b3c4d",
                "language": "python"
            },
            "source": [
                "import os",
                "import pandas as pd",
                "import numpy as np",
                "from sklearn.preprocessing import StandardScaler",
                "from sklearn.decomposition import PCA",
                "import matplotlib.pyplot as plt",
                "",
                "# Load the merged DataFrame",
                "merged_df = pd.read_csv('path_to_your_merged_dataframe.csv')  # Update with the actual path",
                "",
                "# Feature normalization",
                "features = ['mid_price', 'log_return', 'volatility_10s', 'volume_imbalance', 'vwap']",
                "scaler = StandardScaler()",
                "merged_df[features] = scaler.fit_transform(merged_df[features])",
                "",
                "# Dimensionality reduction using PCA",
                "pca = PCA(n_components=2)",  # Reduce to 2 dimensions for visualization
                "principal_components = pca.fit_transform(merged_df[features])",
                "",
                "# Create a DataFrame with the principal components",
                "pca_df = pd.DataFrame(data=principal_components, columns=['PC1', 'PC2'])",
                "pca_df['Time_rounded'] = merged_df['Time_rounded']",
                "",
                "# Visualize the PCA results",
                "plt.figure(figsize=(10, 6))",
                "plt.scatter(pca_df['PC1'], pca_df['PC2'], alpha=0.5)",
                "plt.title('PCA of Merged Data')",
                "plt.xlabel('Principal Component 1')",
                "plt.ylabel('Principal Component 2')",
                "plt.grid()",
                "plt.show()"
            ]
        }
    ]
}